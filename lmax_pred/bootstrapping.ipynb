{
 "cells": [
  {
   "cell_type": "code",
   "execution_count": null,
   "metadata": {},
   "outputs": [],
   "source": [
    "import os\n",
    "import numpy as np\n",
    "import random\n",
    "import matplotlib.pyplot as plt\n",
    "from sklearn.utils import resample\n",
    "from deepBreaks.utils import load_obj\n",
    "from matplotlib.backends.backend_pdf import PdfPages\n",
    "\n",
    "def calculate_ensemble_CI(model_folder, query, n_iterations=100):\n",
    "    \n",
    "    predictions_all = np.zeros((n_iterations, query.shape[0]))  # Account for multiple models\n",
    "\n",
    "    # Load models\n",
    "    i = 0\n",
    "    for filename in os.listdir(model_folder):\n",
    "        if filename.endswith('.pkl'):  # Assuming you saved models as .pkl\n",
    "            model_path = os.path.join(model_folder, filename)\n",
    "            model = load_obj(model_path)  # You'll need a 'load_model' function\n",
    "            prediction = model.predict(query)\n",
    "            prediction = round(float(prediction[0]))\n",
    "            predictions_all[i] = prediction\n",
    "            i+=1\n",
    "    # Calculate ensemble confidence intervals\n",
    "    ci_lower = np.percentile(predictions_all, 2.5, axis=0)\n",
    "    ci_upper = np.percentile(predictions_all, 97.5, axis=0)\n",
    "    mean_predictions = np.mean(predictions_all, axis=0)\n",
    "\n",
    "    return mean_predictions, ci_lower, ci_upper\n",
    "\n",
    "\n",
    "def plot_predictions_with_CI(name, mean_preds, ci_lower, ci_upper, pdf_file):\n",
    "    with PdfPages(pdf_file) as pdf:  # Open the PDF file\n",
    "        plt.figure(figsize=(8, 6))\n",
    "        plt.plot(mean_preds, color='blue', label='Mean Prediction')\n",
    "        plt.fill_between(np.arange(len(mean_preds)), ci_lower, ci_upper, color='blue', alpha=0.2, label='95% CI')\n",
    "        plt.xlabel(f'{name}')\n",
    "        plt.ylabel('λmax (nm)')\n",
    "        plt.legend()\n",
    "        pdf.savefig()  # Save the current figure to the PDF\n",
    "        plt.close()  # Close the figure \n",
    "# ... (Rest of your code where you load data, call the functions) \n"
   ]
  }
 ],
 "metadata": {
  "language_info": {
   "name": "python"
  }
 },
 "nbformat": 4,
 "nbformat_minor": 2
}
